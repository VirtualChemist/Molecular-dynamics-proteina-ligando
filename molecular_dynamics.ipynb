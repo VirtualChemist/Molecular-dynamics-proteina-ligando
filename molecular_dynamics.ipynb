{
 "cells": [
  {
   "cell_type": "markdown",
   "metadata": {},
   "source": [
    "# Molecular dynamics: Protein-ligand complex Tutorial"
   ]
  },
  {
   "cell_type": "markdown",
   "metadata": {},
   "source": [
    "###### Gutavo Enrique Olivos Ramiez\n",
    "###### Laboratorio de Bioinformática y Biología Molecular, Laboratorios de Investigación y Desarrollo, Universidad Peruana Cayetano Heredia, Lima, Perú."
   ]
  },
  {
   "cell_type": "markdown",
   "metadata": {},
   "source": [
    "<td class=\"first\">\n",
    "    <p style=\"text-align: justify;font-family: Comic;color:black;font-size:1.1em; font-weight: bold\">Software requirements:</p>\n",
    "<p style=\"text-align: justify;font-family: Comic;color:black;font-size:1.0em\">- Gromacs 2018.3</p>\n",
    "<p style=\"text-align: justify;font-family: Comic;color:black;font-size:1.0em\">- Grace 5.1.25</p>\n",
    "    <p style=\"text-align: justify;font-family: Comic;color:black;font-size:1.0em\">- VMD 1.9.3</p>\n",
    "<p style=\"text-align: justify;font-family: Comic;color:black;font-size:1.1em; font-weight: bold\">Required input files: </p>\n",
    "<p style=\"text-align: justify;font-family: Comic;color:black;font-size:1.0em\">- receptor.pdb </p>\n",
    "<p style=\"text-align: justify;font-family: Comic;color:black;font-size:1.0em\">- ligand.pdb </p>\n",
    "</td>\n",
    "<td class=\"third\">\n",
    "<p style=\"text-align: justify;font-family: Comic;color:black;font-size:1.1em; font-weight: bold\">Scripts </p>\n",
    "<p style=\"text-align: justify;font-family: Comic;color:black;font-size:1.0em\">- ions.mdp</p>\n",
    "<p style=\"text-align: justify;font-family: Comic;color:black;font-size:1.0em\">- em.mdp</p>\n",
    "<p style=\"text-align: justify;font-family: Comic;color:black;font-size:1.0em\">- nvt.mdp</p>\n",
    "<p style=\"text-align: justify;font-family: Comic;color:black;font-size:1.0em\">- npt.mdp</p>\n",
    "<p style=\"text-align: justify;font-family: Comic;color:black;font-size:1.0em\">- md.mdp</p>\n",
    "</td>"
   ]
  },
  {
   "cell_type": "markdown",
   "metadata": {},
   "source": [
    "### Step 1: construyendo la topología de la proteína y ligando"
   ]
  },
  {
   "cell_type": "code",
   "execution_count": null,
   "metadata": {},
   "outputs": [],
   "source": [
    "%%bash \n",
    "gmx=\"/home/pitts/Documents/gromacs-2018.3/build/bin/./gmx_mpi\"\n",
    "echo -e '10' | $gmx pdb2gmx -f receptor.pdb -o receptor.gro -water spce\n",
    "# El comando pdb2gmx permite generar la topologia del receptor."
   ]
  },
  {
   "cell_type": "code",
   "execution_count": null,
   "metadata": {},
   "outputs": [],
   "source": [
    "!gedit ligand.pdb"
   ]
  },
  {
   "cell_type": "code",
   "execution_count": null,
   "metadata": {},
   "outputs": [],
   "source": [
    "import webbrowser\n",
    "url = 'http://prodrg1.dyndns.org/'\n",
    "webbrowser.open(url)\n",
    "# La topologia del ligando debe ser construida en un servidor externo, dependiendo del FF seleccionado. "
   ]
  },
  {
   "cell_type": "code",
   "execution_count": null,
   "metadata": {},
   "outputs": [],
   "source": [
    "%%bash\n",
    "mkdir ligand_topology && mv *.tgz ligand_topology/\n",
    "cd ligand_topology && tar -xvzf *.tgz && cd ..\n",
    "cp ligand_topology/DRGAPH.GRO .\n",
    "mv DRGAPH.GRO ligand.gro\n",
    "cp ligand_topology/DRGGMX.ITP .\n",
    "mv DRGGMX.ITP unl.itp"
   ]
  },
  {
   "cell_type": "markdown",
   "metadata": {},
   "source": [
    "#### Nota: Hasta este paso habremos generado 3 archivos de la proteína (.gro, .itp, .top) y dos más del ligando (.gro, .itp)."
   ]
  },
  {
   "cell_type": "markdown",
   "metadata": {},
   "source": [
    "### Step 2: construyendo el complejo"
   ]
  },
  {
   "cell_type": "code",
   "execution_count": null,
   "metadata": {},
   "outputs": [],
   "source": [
    "%%bash\n",
    "gedit receptor.gro ligand.gro complex.gro"
   ]
  },
  {
   "cell_type": "markdown",
   "metadata": {},
   "source": [
    "### Step 3: construyendo la topologia del complejo"
   ]
  },
  {
   "cell_type": "code",
   "execution_count": null,
   "metadata": {},
   "outputs": [],
   "source": [
    "#En este procedimiento incluiremos los parametros del ligando a la topologia.\n",
    "\n",
    "; Include Position restraint file\n",
    "#ifdef POSRES\n",
    "#include \"posre.itp\"\n",
    "#endif\n",
    "\n",
    "; Include ligand topology\n",
    "#include \"unl.itp\"\n",
    "\n",
    "; Include water topology\n",
    "#include \"./charmm36-mar2019.ff/tip3p.itp\""
   ]
  },
  {
   "cell_type": "code",
   "execution_count": null,
   "metadata": {},
   "outputs": [],
   "source": [
    "#Finalmente, incluiremos lo siguiente en la directiva de las moleculas:\n",
    "\n",
    "[ molecules ]\n",
    "; Compound        #mols\n",
    "Protein_chain_A     1\n",
    "UNL                 1"
   ]
  },
  {
   "cell_type": "code",
   "execution_count": null,
   "metadata": {},
   "outputs": [],
   "source": [
    "%%bash\n",
    "gedit topol.top"
   ]
  },
  {
   "cell_type": "markdown",
   "metadata": {},
   "source": [
    "### Step 4: solvatando el sistema"
   ]
  },
  {
   "cell_type": "code",
   "execution_count": null,
   "metadata": {},
   "outputs": [],
   "source": [
    "%%bash \n",
    "gmx=\"/home/pitts/Documents/gromacs-2018.3/build/bin/./gmx_mpi\"\n",
    "$gmx editconf -f complex.gro -o newbox.gro -bt cubic -d 1.0"
   ]
  },
  {
   "cell_type": "code",
   "execution_count": null,
   "metadata": {},
   "outputs": [],
   "source": [
    "!vmd newbox.gro"
   ]
  },
  {
   "cell_type": "code",
   "execution_count": null,
   "metadata": {},
   "outputs": [],
   "source": [
    "%%bash \n",
    "gmx=\"/home/pitts/Documents/gromacs-2018.3/build/bin/./gmx_mpi\"\n",
    "$gmx solvate -cp newbox.gro -cs spc216.gro -p topol.top -o solv.gro\n",
    "# En esta parte se ha adicionado agua y credado una cubo de simulación."
   ]
  },
  {
   "cell_type": "code",
   "execution_count": null,
   "metadata": {
    "scrolled": true
   },
   "outputs": [],
   "source": [
    "!vmd solv.gro"
   ]
  },
  {
   "cell_type": "markdown",
   "metadata": {},
   "source": [
    "### Step 5: agregando iones"
   ]
  },
  {
   "cell_type": "code",
   "execution_count": null,
   "metadata": {},
   "outputs": [],
   "source": [
    "import webbrowser\n",
    "url = 'https://drive.google.com/file/d/1Xa4uMJUMqhoTD0YWQNO9gp2n5GLR9N1Y/view?usp=sharing'\n",
    "webbrowser.open(url)\n",
    "# En esta parte descagaremos los scripts necesarios para continuar con la dinámica molecular"
   ]
  },
  {
   "cell_type": "code",
   "execution_count": null,
   "metadata": {},
   "outputs": [],
   "source": [
    "%%bash\n",
    "unzip md_files.zip "
   ]
  },
  {
   "cell_type": "code",
   "execution_count": null,
   "metadata": {},
   "outputs": [],
   "source": [
    "%%bash \n",
    "gmx=\"/home/pitts/Documents/gromacs-2018.3/build/bin/./gmx_mpi\"\n",
    "$gmx grompp -f ions.mdp -c solv.gro -p topol.top -o ions.tpr"
   ]
  },
  {
   "cell_type": "code",
   "execution_count": null,
   "metadata": {},
   "outputs": [],
   "source": [
    "%%bash \n",
    "gmx=\"/home/pitts/Documents/gromacs-2018.3/build/bin/./gmx_mpi\"\n",
    "echo -e '15' | $gmx genion -s ions.tpr -o solv_ions.gro -p topol.top -pname NA -nname CL -neutral"
   ]
  },
  {
   "cell_type": "markdown",
   "metadata": {},
   "source": [
    "### Step 6: minimizando el sistema"
   ]
  },
  {
   "cell_type": "code",
   "execution_count": null,
   "metadata": {},
   "outputs": [],
   "source": [
    "%%bash \n",
    "gmx=\"/home/pitts/Documents/gromacs-2018.3/build/bin/./gmx_mpi\"\n",
    "$gmx grompp -f em.mdp -c solv_ions.gro -p topol.top -o em.tpr"
   ]
  },
  {
   "cell_type": "code",
   "execution_count": null,
   "metadata": {},
   "outputs": [],
   "source": [
    "%%bash \n",
    "gmx=\"/home/pitts/Documents/gromacs-2018.3/build/bin/./gmx_mpi\"\n",
    "$gmx mdrun -v -nb gpu -deffnm em"
   ]
  },
  {
   "cell_type": "markdown",
   "metadata": {},
   "source": [
    "### Step 7: restringiendo el ligando"
   ]
  },
  {
   "cell_type": "code",
   "execution_count": null,
   "metadata": {},
   "outputs": [],
   "source": [
    "%%bash\n",
    "gmx=\"/home/pitts/Documents/gromacs-2018.3/build/bin/./gmx_mpi\"\n",
    "cat << EOF | $gmx make_ndx -f ligand.gro -o index_unl.ndx\n",
    "0 & ! aH*\n",
    "q\n",
    "EOF"
   ]
  },
  {
   "cell_type": "code",
   "execution_count": null,
   "metadata": {},
   "outputs": [],
   "source": [
    "%%bash \n",
    "gmx=\"/home/pitts/Documents/gromacs-2018.3/build/bin/./gmx_mpi\"\n",
    "echo -e '3' | $gmx genrestr -f ligand.gro -n index_unl.ndx -o posre_unl.itp -fc 1000 1000 1000"
   ]
  },
  {
   "cell_type": "code",
   "execution_count": null,
   "metadata": {},
   "outputs": [],
   "source": [
    "#Ahora incluimos esta informacion en la topologia.\n",
    "\n",
    "; Include Position restraint file\n",
    "#ifdef POSRES\n",
    "#include \"posre.itp\"\n",
    "#endif\n",
    "\n",
    "; Include ligand topology\n",
    "#include \"unl.itp\"\n",
    "\n",
    "; Ligand position restraints\n",
    "#ifdef POSRES\n",
    "#include \"posre_unl.itp\"\n",
    "#endif\n",
    "\n",
    "; Include water topology\n",
    "#include \"./charmm36-mar2019.ff/tip3p.itp\""
   ]
  },
  {
   "cell_type": "code",
   "execution_count": null,
   "metadata": {},
   "outputs": [],
   "source": [
    "%%bash\n",
    "gedit topol.top"
   ]
  },
  {
   "cell_type": "markdown",
   "metadata": {},
   "source": [
    "### Step 8: equilibrando la temperatura"
   ]
  },
  {
   "cell_type": "code",
   "execution_count": null,
   "metadata": {},
   "outputs": [],
   "source": [
    "%%bash \n",
    "gmx=\"/home/pitts/Documents/gromacs-2018.3/build/bin/./gmx_mpi\"\n",
    "cat << EOF | $gmx make_ndx -f em.gro -o index.ndx\n",
    "1 | 13\n",
    "q\n",
    "EOF"
   ]
  },
  {
   "cell_type": "code",
   "execution_count": null,
   "metadata": {},
   "outputs": [],
   "source": [
    "%%bash\n",
    "gmx=\"/home/pitts/Documents/gromacs-2018.3/build/bin/./gmx_mpi\"\n",
    "$gmx grompp -f nvt.mdp -c em.gro -r em.gro -p topol.top -n index.ndx -o nvt.tpr"
   ]
  },
  {
   "cell_type": "code",
   "execution_count": null,
   "metadata": {},
   "outputs": [],
   "source": [
    "%%bash \n",
    "gmx=\"/home/pitts/Documents/gromacs-2018.3/build/bin/./gmx_mpi\"\n",
    "$gmx mdrun -v -nb gpu -deffnm nvt"
   ]
  },
  {
   "cell_type": "markdown",
   "metadata": {},
   "source": [
    "### Step 9: equilibrando la presión"
   ]
  },
  {
   "cell_type": "code",
   "execution_count": null,
   "metadata": {},
   "outputs": [],
   "source": [
    "%%bash \n",
    "gmx=\"/home/pitts/Documents/gromacs-2018.3/build/bin/./gmx_mpi\"\n",
    "$gmx grompp -f npt.mdp -c nvt.gro -t nvt.cpt -r nvt.gro -p topol.top -n index.ndx -o npt.tpr"
   ]
  },
  {
   "cell_type": "code",
   "execution_count": null,
   "metadata": {},
   "outputs": [],
   "source": [
    "%%bash \n",
    "gmx=\"/home/pitts/Documents/gromacs-2018.3/build/bin/./gmx_mpi\"\n",
    "$gmx mdrun -v -nb gpu -deffnm npt"
   ]
  },
  {
   "cell_type": "markdown",
   "metadata": {},
   "source": [
    "### Step 10: ejecuntando la dinámica molecular"
   ]
  },
  {
   "cell_type": "code",
   "execution_count": null,
   "metadata": {},
   "outputs": [],
   "source": [
    "%%bash\n",
    "gedit md.mdp\n",
    "#Aqui hay que modificar los steps para establecer el tiempo de la simulación."
   ]
  },
  {
   "cell_type": "code",
   "execution_count": null,
   "metadata": {
    "scrolled": true
   },
   "outputs": [],
   "source": [
    "%%bash \n",
    "gmx=\"/home/pitts/Documents/gromacs-2018.3/build/bin/./gmx_mpi\"\n",
    "$gmx grompp -f md.mdp -c npt.gro -t npt.cpt -p topol.top -n index.ndx -o md_0_10.tpr"
   ]
  },
  {
   "cell_type": "code",
   "execution_count": null,
   "metadata": {},
   "outputs": [],
   "source": [
    "%%bash \n",
    "gmx=\"/home/pitts/Documents/gromacs-2018.3/build/bin/./gmx_mpi\"\n",
    "$gmx mdrun -v -nb gpu -deffnm md_0_10"
   ]
  },
  {
   "cell_type": "markdown",
   "metadata": {},
   "source": [
    "### Step 11: analizando los resultados"
   ]
  },
  {
   "cell_type": "code",
   "execution_count": null,
   "metadata": {},
   "outputs": [],
   "source": [
    "%%bash \n",
    "gmx=\"/home/pitts/Documents/gromacs-2018.3/build/bin/./gmx_mpi\"\n",
    "cat << EOF | $gmx rms -s md_0_10.tpr -f md_0_10.xtc -o rmsd2.xvg -tu ns\n",
    "4\n",
    "4\n",
    "EOF\n",
    "# RMSD plot"
   ]
  },
  {
   "cell_type": "code",
   "execution_count": null,
   "metadata": {},
   "outputs": [],
   "source": [
    "%%bash\n",
    "xmgrace rmsd2.xvg"
   ]
  },
  {
   "cell_type": "code",
   "execution_count": null,
   "metadata": {},
   "outputs": [],
   "source": [
    "%%bash \n",
    "gmx=\"/home/pitts/Documents/gromacs-2018.3/build/bin/./gmx_mpi\"\n",
    "cat << EOF | $gmx rmsf -s md_0_10.tpr -f md_0_10.xtc -res -o rmsf.xvg\n",
    "4\n",
    "4\n",
    "EOF\n",
    "# RMSF plot"
   ]
  },
  {
   "cell_type": "code",
   "execution_count": null,
   "metadata": {},
   "outputs": [],
   "source": [
    "%%bash\n",
    "xmgrace rmsf.xvg"
   ]
  },
  {
   "cell_type": "code",
   "execution_count": null,
   "metadata": {},
   "outputs": [],
   "source": [
    "%%bash \n",
    "gmx=\"/home/pitts/Documents/gromacs-2018.3/build/bin/./gmx_mpi\"\n",
    "$gm trjconv -s topol.tpr -f md_0_10.xtc -dt 100 -o trj.pdb\n",
    "# Trajectorias en pdb"
   ]
  },
  {
   "cell_type": "code",
   "execution_count": null,
   "metadata": {},
   "outputs": [],
   "source": [
    "!vmd trj.pdb"
   ]
  },
  {
   "cell_type": "markdown",
   "metadata": {},
   "source": [
    "###### Felicidades, hemos concluido la práctica!!!"
   ]
  }
 ],
 "metadata": {
  "kernelspec": {
   "display_name": "Python 3",
   "language": "python",
   "name": "python3"
  },
  "language_info": {
   "codemirror_mode": {
    "name": "ipython",
    "version": 3
   },
   "file_extension": ".py",
   "mimetype": "text/x-python",
   "name": "python",
   "nbconvert_exporter": "python",
   "pygments_lexer": "ipython3",
   "version": "3.7.4"
  }
 },
 "nbformat": 4,
 "nbformat_minor": 2
}
